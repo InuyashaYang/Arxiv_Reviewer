{
 "cells": [
  {
   "cell_type": "code",
   "execution_count": 5,
   "metadata": {},
   "outputs": [
    {
     "name": "stdout",
     "output_type": "stream",
     "text": [
      "{'title': '...', 'abstract': '...', 'sections': [{'title': '...', 'id': None, 'subsections': [{'title': '...', 'id': 'S1', 'subsections': [], 'text': '...'}, {'title': '...', 'id': 'S2', 'subsections': [{'title': '...', 'id': '...', 'subsections': [], 'text': '...'}, {'title': '...', 'id': '...', 'subsections': [], 'text': '...'}], 'text': '...'}, {'title': '...', 'id': 'S3', 'subsections': [{'title': '...', 'id': '...', 'subsections': [{'title': '...', 'id': '...', 'subsections': [], 'text': '...'}], 'text': '...'}, {'title': '...', 'id': '...', 'subsections': [], 'text': '...'}, {'title': '...', 'id': '...', 'subsections': [{'title': '...', 'id': '...', 'subsections': [], 'text': '...'}, {'title': '...', 'id': '...', 'subsections': [], 'text': '...'}], 'text': '...'}], 'text': '...'}, {'title': '...', 'id': 'S4', 'subsections': [{'title': '...', 'id': '...', 'subsections': [], 'text': '...'}, {'title': '...', 'id': '...', 'subsections': [], 'text': '...'}, {'title': '...', 'id': '...', 'subsections': [], 'text': '...'}], 'text': '...'}, {'title': '...', 'id': 'S5', 'subsections': [{'title': '...', 'id': '...', 'subsections': [], 'text': '...'}, {'title': '...', 'id': '...', 'subsections': [], 'text': '...'}], 'text': '...'}, {'title': '...', 'id': 'S6', 'subsections': [], 'text': '...'}, {'title': '...', 'id': 'A1', 'subsections': [], 'text': '...'}, {'title': '...', 'id': 'A2', 'subsections': [], 'text': '...'}]}], 'references': {'bib.bib1': {'meta_list': ['...'], 'meta_string': '...', 'authors': 'S.', 'title': '...', 'journal': '...'}, 'bib.bib2': {'meta_list': ['...'], 'meta_string': '...', 'authors': '...', 'title': '...', 'journal': '...'}, 'bib.bib3': {'meta_list': ['...'], 'meta_string': '...', 'authors': 'D.', 'title': '...', 'journal': '...'}, 'bib.bib4': {'meta_list': ['...'], 'meta_string': '...', 'authors': '...', 'title': '...', 'journal': '...'}, 'bib.bib5': {'meta_list': ['...'], 'meta_string': '...', 'authors': '...', 'title': '...', 'journal': '...'}, 'bib.bib6': {'meta_list': ['...'], 'meta_string': '...', 'authors': 'E.', 'title': '...', 'journal': '...'}, 'bib.bib7': {'meta_list': ['...'], 'meta_string': '...', 'authors': '', 'title': '', 'journal': ''}, 'bib.bib8': {'meta_list': ['...'], 'meta_string': '...', 'authors': 'S.', 'title': '...', 'journal': '...'}, 'bib.bib9': {'meta_list': ['...'], 'meta_string': '...', 'authors': 'S.', 'title': '...', 'journal': '...'}, 'bib.bib10': {'meta_list': ['...'], 'meta_string': '...', 'authors': 'S.', 'title': '...', 'journal': '...'}, 'bib.bib11': {'meta_list': ['...'], 'meta_string': '...', 'authors': 'F.', 'title': '...', 'journal': '...'}, 'bib.bib12': {'meta_list': ['...'], 'meta_string': '...', 'authors': '...', 'title': '...', 'journal': '...'}, 'bib.bib13': {'meta_list': ['...'], 'meta_string': '...', 'authors': 'F.', 'title': '...', 'journal': '...'}, 'bib.bib14': {'meta_list': ['...'], 'meta_string': '...', 'authors': '...', 'title': '...', 'journal': '...'}, 'bib.bib15': {'meta_list': ['...'], 'meta_string': '...', 'authors': '...', 'title': '...', 'journal': '...'}, 'bib.bib16': {'meta_list': ['...'], 'meta_string': '...', 'authors': 'A.', 'title': '...', 'journal': '...'}, 'bib.bib17': {'meta_list': ['...'], 'meta_string': '...', 'authors': '...', 'title': '...', 'journal': '...'}, 'bib.bib18': {'meta_list': ['...'], 'meta_string': '...', 'authors': 'S.', 'title': '...', 'journal': '...'}, 'bib.bib19': {'meta_list': ['...'], 'meta_string': '...', 'authors': '...', 'title': '...', 'journal': '...'}, 'bib.bib20': {'meta_list': ['...'], 'meta_string': '...', 'authors': 'A.', 'title': '...', 'journal': ''}, 'bib.bib21': {'meta_list': ['...'], 'meta_string': '...', 'authors': 'G.', 'title': '...', 'journal': '...'}, 'bib.bib22': {'meta_list': ['...'], 'meta_string': '...', 'authors': 'J.', 'title': '...', 'journal': '...'}, 'bib.bib23': {'meta_list': ['...'], 'meta_string': '...', 'authors': 'D.', 'title': '...', 'journal': ''}, 'bib.bib24': {'meta_list': ['...'], 'meta_string': '...', 'authors': 'L.', 'title': '...', 'journal': '...'}, 'bib.bib25': {'meta_list': ['...'], 'meta_string': '...', 'authors': 'N.', 'title': '...', 'journal': '...'}, 'bib.bib26': {'meta_list': ['...'], 'meta_string': '...', 'authors': 'H.', 'title': '...', 'journal': '...'}, 'bib.bib27': {'meta_list': ['...'], 'meta_string': '...', 'authors': '...', 'title': '...', 'journal': '...'}, 'bib.bib28': {'meta_list': ['...'], 'meta_string': '...', 'authors': '...', 'title': '...', 'journal': '...'}, 'bib.bib29': {'meta_list': ['...'], 'meta_string': '...', 'authors': 'P.', 'title': '...', 'journal': '...'}, 'bib.bib30': {'meta_list': ['...'], 'meta_string': '...', 'authors': 'P.', 'title': '...', 'journal': '...'}, 'bib.bib31': {'meta_list': ['...'], 'meta_string': '...', 'authors': '...', 'title': '...', 'journal': '...'}, 'bib.bib32': {'meta_list': ['...'], 'meta_string': '...', 'authors': '...', 'title': '...', 'journal': '...'}, 'bib.bib33': {'meta_list': ['...'], 'meta_string': '...', 'authors': 'M.', 'title': '...', 'journal': '...'}, 'bib.bib34': {'meta_list': ['...'], 'meta_string': '...', 'authors': 'J.', 'title': '...', 'journal': '...'}, 'bib.bib35': {'meta_list': ['...'], 'meta_string': '...', 'authors': 'C.', 'title': '...', 'journal': ''}, 'bib.bib36': {'meta_list': ['...'], 'meta_string': '...', 'authors': '...', 'title': '...', 'journal': ''}, 'bib.bib37': {'meta_list': ['...'], 'meta_string': '...', 'authors': '...', 'title': '...', 'journal': '...'}, 'bib.bib38': {'meta_list': ['...'], 'meta_string': '...', 'authors': 'K.', 'title': '...', 'journal': ''}, 'bib.bib39': {'meta_list': ['...'], 'meta_string': '...', 'authors': 'K.', 'title': '...', 'journal': ''}, 'bib.bib40': {'meta_list': ['...'], 'meta_string': '...', 'authors': '...', 'title': '...', 'journal': '...'}, 'bib.bib41': {'meta_list': ['...'], 'meta_string': '...', 'authors': 'Z.', 'title': '...', 'journal': '...'}, 'bib.bib42': {'meta_list': ['...'], 'meta_string': '...', 'authors': 'S.', 'title': '...', 'journal': '...'}, 'bib.bib43': {'meta_list': ['...'], 'meta_string': '...', 'authors': '...', 'title': '...', 'journal': ''}, 'bib.bib44': {'meta_list': ['...'], 'meta_string': '...', 'authors': 'M.', 'title': '...', 'journal': '...'}, 'bib.bib45': {'meta_list': ['...'], 'meta_string': '...', 'authors': 'I.', 'title': '...', 'journal': '...'}, 'bib.bib46': {'meta_list': ['...'], 'meta_string': '...', 'authors': 'L.', 'title': '...', 'journal': '...'}, 'bib.bib47': {'meta_list': ['...'], 'meta_string': '...', 'authors': 'W.', 'title': '...', 'journal': '...'}, 'bib.bib48': {'meta_list': ['...'], 'meta_string': '...', 'authors': '...', 'title': '...', 'journal': '...'}, 'bib.bib49': {'meta_list': ['...'], 'meta_string': '...', 'authors': 'P.', 'title': '...', 'journal': '...'}, 'bib.bib50': {'meta_list': ['...'], 'meta_string': '...', 'authors': 'P.', 'title': '...', 'journal': '...'}, 'bib.bib51': {'meta_list': ['...'], 'meta_string': '...', 'authors': 'K.', 'title': '...', 'journal': '...'}, 'bib.bib52': {'meta_list': ['...'], 'meta_string': '...', 'authors': '...', 'title': '...', 'journal': '...'}, 'bib.bib53': {'meta_list': ['...'], 'meta_string': '...', 'authors': 'K.', 'title': '...', 'journal': '...'}, 'bib.bib54': {'meta_list': ['...'], 'meta_string': '...', 'authors': 'S.', 'title': '...', 'journal': '...'}}}\n"
     ]
    }
   ],
   "source": [
    "def replace_long_strings(data, max_length=20):\n",
    "    if isinstance(data, dict):\n",
    "        return {k: replace_long_strings(v, max_length) for k, v in data.items()}\n",
    "    elif isinstance(data, list):\n",
    "        return [replace_long_strings(item, max_length) for item in data]\n",
    "    elif isinstance(data, str):\n",
    "        return \"...\" if len(data) > max_length else data\n",
    "    else:\n",
    "        # 非字符串类型（如 None/布尔值/数字等）直接返回原值\n",
    "        return data\n",
    "\n",
    "\n",
    "result = replace_long_strings(example_dict, max_length=2)\n",
    "print(result)\n"
   ]
  }
 ],
 "metadata": {
  "kernelspec": {
   "display_name": "Python 3",
   "language": "python",
   "name": "python3"
  },
  "language_info": {
   "codemirror_mode": {
    "name": "ipython",
    "version": 3
   },
   "file_extension": ".py",
   "mimetype": "text/x-python",
   "name": "python",
   "nbconvert_exporter": "python",
   "pygments_lexer": "ipython3",
   "version": "3.12.7"
  }
 },
 "nbformat": 4,
 "nbformat_minor": 2
}
